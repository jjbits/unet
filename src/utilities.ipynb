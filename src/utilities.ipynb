{
 "cells": [
  {
   "cell_type": "code",
   "execution_count": 2,
   "metadata": {},
   "outputs": [],
   "source": [
    "# rename file names\n",
    "\n",
    "import os\n",
    "\n",
    "pwd = \"/mnt/data/noise2noise-pytorch/supersample_data/valid/input/\"\n",
    "for count, filename in enumerate(os.listdir(pwd)): \n",
    "    str1 = filename.split('.')\n",
    "    newname = str1[0][0: -2] + \".png\"\n",
    "    os.rename(pwd+filename, pwd+newname)"
   ]
  },
  {
   "cell_type": "code",
   "execution_count": 13,
   "metadata": {
    "scrolled": true
   },
   "outputs": [
    {
     "name": "stdout",
     "output_type": "stream",
     "text": [
      "train/input count 7000\n",
      "train/target count 7000\n",
      "valid/input count 1500\n",
      "valid/target count 1500\n",
      "test/input count 1500\n",
      "test/target count 1500\n"
     ]
    }
   ],
   "source": [
    "# split data\n",
    "import os\n",
    "import shutil\n",
    "\n",
    "SRC_DIR = \"/mnt/data/final-project/Images/\"\n",
    "DST_DIR = \"/mnt/data/noise2noise-pytorch/supersample_data/\"\n",
    "\n",
    "# 70-15-15 data split\n",
    "train_range = range(0, 7000)\n",
    "valid_range = range(7000, 8500)\n",
    "test_range = range(8500, 10000)\n",
    "\n",
    "# copy train data\n",
    "# red triangles\n",
    "do_train = False\n",
    "do_valid = False\n",
    "do_test = False\n",
    "if (do_train):\n",
    "    for i in train_range:\n",
    "        # input\n",
    "        src_name = SRC_DIR + \"red-input/red-input/red-\" + str(i) + \".png\"\n",
    "        dst_name = DST_DIR + \"train/input/red-\" + str(i) + \".png\"\n",
    "        shutil.copyfile(src_name, dst_name)\n",
    "        # target\n",
    "        src_name = SRC_DIR + \"red-target/red-target/red-\" + str(i) + \".png\"\n",
    "        dst_name = DST_DIR + \"train/target/red-\" + str(i) + \".png\"\n",
    "        shutil.copyfile(src_name, dst_name)\n",
    "        \n",
    "if (do_valid):\n",
    "    for i in valid_range:\n",
    "        # input\n",
    "        src_name = SRC_DIR + \"red-input/red-input/red-\" + str(i) + \".png\"\n",
    "        dst_name = DST_DIR + \"valid/input/red-\" + str(i) + \".png\"\n",
    "        shutil.copyfile(src_name, dst_name)\n",
    "        # target\n",
    "        src_name = SRC_DIR + \"red-target/red-target/red-\" + str(i) + \".png\"\n",
    "        dst_name = DST_DIR + \"valid/target/red-\" + str(i) + \".png\"\n",
    "        shutil.copyfile(src_name, dst_name)\n",
    "        \n",
    "if (do_test):\n",
    "    for i in test_range:\n",
    "        # input\n",
    "        src_name = SRC_DIR + \"red-input/red-input/red-\" + str(i) + \".png\"\n",
    "        dst_name = DST_DIR + \"test/input/red-\" + str(i) + \".png\"\n",
    "        shutil.copyfile(src_name, dst_name)\n",
    "        # target\n",
    "        src_name = SRC_DIR + \"red-target/red-target/red-\" + str(i) + \".png\"\n",
    "        dst_name = DST_DIR + \"test/target/red-\" + str(i) + \".png\"\n",
    "        shutil.copyfile(src_name, dst_name)\n",
    "\n",
    "DIR = DST_DIR + \"train/input\"\n",
    "print(\"train/input count \" +  str(len([name for name in os.listdir(DIR) if os.path.isfile(os.path.join(DIR, name))])))\n",
    "\n",
    "DIR = DST_DIR + \"train/target\"\n",
    "print(\"train/target count \" +  str(len([name for name in os.listdir(DIR) if os.path.isfile(os.path.join(DIR, name))])))\n",
    "\n",
    "DIR = DST_DIR + \"valid/input\"\n",
    "print(\"valid/input count \" +  str(len([name for name in os.listdir(DIR) if os.path.isfile(os.path.join(DIR, name))])))\n",
    "\n",
    "DIR = DST_DIR + \"valid/target\"\n",
    "print(\"valid/target count \" +  str(len([name for name in os.listdir(DIR) if os.path.isfile(os.path.join(DIR, name))])))\n",
    "\n",
    "DIR = DST_DIR + \"test/input\"\n",
    "print(\"test/input count \" +  str(len([name for name in os.listdir(DIR) if os.path.isfile(os.path.join(DIR, name))])))\n",
    "\n",
    "DIR = DST_DIR + \"test/target\"\n",
    "print(\"test/target count \" +  str(len([name for name in os.listdir(DIR) if os.path.isfile(os.path.join(DIR, name))])))\n",
    "\n"
   ]
  },
  {
   "cell_type": "code",
   "execution_count": 26,
   "metadata": {},
   "outputs": [
    {
     "name": "stdout",
     "output_type": "stream",
     "text": [
      "<class 'numpy.ndarray'>\n",
      "MSE: 8069.333333333333\n"
     ]
    },
    {
     "data": {
      "image/png": "[encoded data removed]",
      "text/plain": [
       "<Figure size 432x288 with 1 Axes>"
      ]
     },
     "metadata": {
      "needs_background": "light"
     },
     "output_type": "display_data"
    }
   ],
   "source": [
    "import cv2\n",
    "import numpy as np\n",
    "import matplotlib.pyplot as plt\n",
    "\n",
    "INPUT = \"/mnt/data/noise2noise-pytorch/supersample_data/new_test/input/red-28.png\"\n",
    "TARGET = \"/mnt/data/noise2noise-pytorch/supersample_data/new_test/target/red-28.png\"\n",
    "\n",
    "A = cv2.imread(INPUT)\n",
    "print(type(A))\n",
    "B = cv2.imread(TARGET)\n",
    "\n",
    "# generate Gaussian pyramid for A\n",
    "G = A.copy()\n",
    "gpA = [G]\n",
    "for i in range(6):\n",
    "    G = cv2.pyrDown(G)\n",
    "    gpA.append(G)\n",
    "\n",
    "# generate Gaussian pyramid for B\n",
    "G = B.copy()\n",
    "gpB = [G]\n",
    "for i in range(6):\n",
    "    G = cv2.pyrDown(G)\n",
    "    gpB.append(G)\n",
    "\n",
    "# generate Laplacian Pyramid for A\n",
    "lpA = [gpA[5]]\n",
    "for i in range(5,0,-1):\n",
    "    GE = cv2.pyrUp(gpA[i])\n",
    "    L = cv2.subtract(gpA[i-1],GE)\n",
    "    lpA.append(L)\n",
    "\n",
    "# generate Laplacian Pyramid for B\n",
    "lpB = [gpB[5]]\n",
    "for i in range(5,0,-1):\n",
    "    GE = cv2.pyrUp(gpB[i])\n",
    "    L = cv2.subtract(gpB[i-1],GE)\n",
    "    lpB.append(L)\n",
    "    \n",
    "plt.imshow(lpB[5])\n",
    "\n",
    "mse = np.sum(np.sqrt((lpB[5] - lpA[5])**2))/len(lpB)\n",
    "print(\"MSE: \" + str(mse))"
   ]
  },
  {
   "cell_type": "code",
   "execution_count": 2,
   "metadata": {},
   "outputs": [
    {
     "name": "stdout",
     "output_type": "stream",
     "text": [
      "MSE: 0.3125\n"
     ]
    },
    {
     "data": {
      "image/png": "[encoded data removed]",
      "text/plain": [
       "<Figure size 432x288 with 1 Axes>"
      ]
     },
     "metadata": {
      "needs_background": "light"
     },
     "output_type": "display_data"
    }
   ],
   "source": [
    "import cv2\n",
    "import numpy as np\n",
    "import matplotlib.pyplot as plt\n",
    "\n",
    "INPUT = \"/mnt/data/noise2noise-pytorch/supersample_data/new_test/input/red-28.png\"\n",
    "TARGET = \"/mnt/data/noise2noise-pytorch/supersample_data/new_test/target/red-28.png\"\n",
    "\n",
    "A = cv2.imread(INPUT)\n",
    "B = cv2.imread(TARGET)\n",
    "\n",
    "# generate Gaussian pyramid for A\n",
    "G = A.copy()\n",
    "gpA = [G]\n",
    "for i in range(6):\n",
    "    G = cv2.pyrDown(G)\n",
    "    gpA.append(G)\n",
    "\n",
    "# generate Gaussian pyramid for B\n",
    "G = B.copy()\n",
    "gpB = [G]\n",
    "for i in range(6):\n",
    "    G = cv2.pyrDown(G)\n",
    "    gpB.append(G)\n",
    "\n",
    "GE = cv2.pyrUp(gpA[5])\n",
    "generated_laplacian = cv2.subtract(gpA[4], GE)\n",
    "\n",
    "# generate Laplacian Pyramid for target\n",
    "GE2 = cv2.pyrUp(gpB[5])\n",
    "target_laplacian = cv2.subtract(gpB[4], GE2)\n",
    "    \n",
    "plt.imshow(generated_laplacian)\n",
    "\n",
    "mse = np.sum(np.sqrt((generated_laplacian - target_laplacian)**2))/len(target_laplacian)\n",
    "print(\"MSE: \" + str(mse))"
   ]
  },
  {
   "cell_type": "code",
   "execution_count": 6,
   "metadata": {},
   "outputs": [
    {
     "data": {
      "text/plain": [
       "<matplotlib.image.AxesImage at 0x7f6fe80c69a0>"
      ]
     },
     "execution_count": 6,
     "metadata": {},
     "output_type": "execute_result"
    },
    {
     "data": {
      "image/png": "[encoded data removed]",
      "text/plain": [
       "<Figure size 432x288 with 1 Axes>"
      ]
     },
     "metadata": {
      "needs_background": "light"
     },
     "output_type": "display_data"
    }
   ],
   "source": [
    "import cv2\n",
    "import numpy as np\n",
    "import matplotlib.pyplot as plt\n",
    "\n",
    "INPUT = \"/mnt/data/noise2noise-pytorch/supersample_data/new_test/input/red-28.png\"\n",
    "TARGET = \"/mnt/data/noise2noise-pytorch/supersample_data/new_test/target/red-28.png\"\n",
    "\n",
    "A = cv2.imread(INPUT)\n",
    "B = cv2.imread(TARGET)\n",
    "\n",
    "gray_A = cv2.cvtColor(A, cv2.COLOR_BGR2GRAY)\n",
    "\n",
    "# Using the Canny filter to get contours\n",
    "edges = cv2.Canny(gray_A, 20, 30)\n",
    "# Using the Canny filter with different parameters\n",
    "edges_high_thresh = cv2.Canny(gray_A, 60, 120)\n",
    "# Stacking the images to print them together\n",
    "# For comparison\n",
    "images = np.hstack((gray_A, edges, edges_high_thresh))\n",
    "\n",
    "# Display the resulting frame\n",
    "plt.imshow(gray_A)"
   ]
  },
  {
   "cell_type": "code",
   "execution_count": 5,
   "metadata": {},
   "outputs": [
    {
     "data": {
      "text/plain": [
       "<matplotlib.image.AxesImage at 0x7f6fe80ee670>"
      ]
     },
     "execution_count": 5,
     "metadata": {},
     "output_type": "execute_result"
    },
    {
     "data": {
      "image/png": "[encoded data removed]",
      "text/plain": [
       "<Figure size 432x288 with 1 Axes>"
      ]
     },
     "metadata": {
      "needs_background": "light"
     },
     "output_type": "display_data"
    }
   ],
   "source": [
    "plt.imshow(edges_high_thresh)"
   ]
  },
  {
   "cell_type": "code",
   "execution_count": 7,
   "metadata": {},
   "outputs": [
    {
     "name": "stdout",
     "output_type": "stream",
     "text": [
      "MSE: 0.0\n"
     ]
    }
   ],
   "source": [
    "mse = np.sum(np.sqrt((edges - edges_high_thresh)**2))/len(edges_high_thresh)\n",
    "print(\"MSE: \" + str(mse))"
   ]
  },
  {
   "cell_type": "code",
   "execution_count": 30,
   "metadata": {
    "scrolled": true
   },
   "outputs": [
    {
     "name": "stdout",
     "output_type": "stream",
     "text": [
      "(1280, 1920, 3)\n",
      "pytorch image L2 Loss:  tensor(1.5055)\n",
      "pytorch edge L2 Loss:  tensor(15.6636)\n"
     ]
    }
   ],
   "source": [
    "import cv2\n",
    "import numpy as np\n",
    "import matplotlib.pyplot as plt\n",
    "import torch.nn as nn\n",
    "import torch\n",
    "\n",
    "INPUT = \"/mnt/data/noise2noise-pytorch/supersample_data/new_test/target/red-28-built.png\"\n",
    "TARGET = \"/mnt/data/noise2noise-pytorch/supersample_data/new_test/target/red-28.png\"\n",
    "\n",
    "A = cv2.imread(INPUT)\n",
    "print(A.shape)\n",
    "B = cv2.imread(TARGET)\n",
    "\n",
    "gray_A = cv2.cvtColor(A, cv2.COLOR_BGR2GRAY)\n",
    "gray_B = cv2.cvtColor(B, cv2.COLOR_BGR2GRAY)\n",
    "\n",
    "# Using the Canny filter to get contours\n",
    "edges_A = cv2.Canny(gray_A, 20, 30)\n",
    "# Using the Canny filter with different parameters\n",
    "edges_B = cv2.Canny(gray_B, 20, 30)\n",
    "\n",
    "GA_tensor = torch.FloatTensor(A)\n",
    "GB_tensor = torch.FloatTensor(B)\n",
    "mse_loss = nn.MSELoss()\n",
    "image_l2_loss = mse_loss(GA_tensor, GB_tensor)\n",
    "print(\"pytorch image L2 Loss: \", str(image_l2_loss))\n",
    "\n",
    "A_tensor = torch.FloatTensor(edges_A)\n",
    "B_tensor = torch.FloatTensor(edges_B)\n",
    "mse_loss = nn.MSELoss()\n",
    "edge_l2_loss = mse_loss(A_tensor, B_tensor)\n",
    "print(\"pytorch edge L2 Loss: \", str(edge_l2_loss))"
   ]
  },
  {
   "cell_type": "code",
   "execution_count": 33,
   "metadata": {},
   "outputs": [
    {
     "data": {
      "image/png": "[encoded data removed]",
      "text/plain": [
       "<Figure size 432x288 with 1 Axes>"
      ]
     },
     "metadata": {
      "needs_background": "light"
     },
     "output_type": "display_data"
    },
    {
     "data": {
      "image/png": "[encoded data removed]",
      "text/plain": [
       "<Figure size 432x288 with 1 Axes>"
      ]
     },
     "metadata": {
      "needs_background": "light"
     },
     "output_type": "display_data"
    }
   ],
   "source": [
    "import torch\n",
    "import torch.nn as nn\n",
    "from PIL import Image\n",
    "import matplotlib.pyplot as plt\n",
    "import numpy as np\n",
    "from torch.autograd import Variable\n",
    "import torchvision.transforms as transforms\n",
    "\n",
    "INPUT = \"/mnt/data/noise2noise-pytorch/supersample_data/new_test/target/red-28-built.png\"\n",
    "TARGET = \"/mnt/data/noise2noise-pytorch/supersample_data/new_test/target/red-28.png\"\n",
    "\n",
    "#reading image\n",
    "#imsize = [512,512] if torch.cuda.is_available() else [128,128] # use small size if no gpu\n",
    "#device = torch.device(\"cuda\" if torch.cuda.is_available() else \"cpu\")\n",
    "device = torch.device(\"cpu\")\n",
    "\n",
    "loader = transforms.Compose([\n",
    "    transforms.ToTensor()])  # transform it into a torch tensor\n",
    "\n",
    "\n",
    "def image_loader(image_name):\n",
    "    image = Image.open(image_name)\n",
    "    # fake batch dimension required to fit network's input dimensions\n",
    "    image = loader(image).unsqueeze(0)\n",
    "    return image.to(device, torch.float)\n",
    "\n",
    "image = image_loader(INPUT)\n",
    "\n",
    "#compute image gradient\n",
    "def gradient_img(img):\n",
    "    img = img.squeeze(0)\n",
    "    ten=torch.unbind(img)\n",
    "    x=ten[0].unsqueeze(0).unsqueeze(0)\n",
    "    \n",
    "    a=np.array([[1, 0, -1],[2,0,-2],[1,0,-1]])\n",
    "    conv1=nn.Conv2d(1, 1, kernel_size=3, stride=1, padding=1, bias=False)\n",
    "    conv1.weight=nn.Parameter(torch.from_numpy(a).float().unsqueeze(0).unsqueeze(0))\n",
    "    G_x=conv1(Variable(x)).data.view(1,x.shape[2],x.shape[3])\n",
    "\n",
    "    b=np.array([[1, 2, 1],[0,0,0],[-1,-2,-1]])\n",
    "    conv2=nn.Conv2d(1, 1, kernel_size=3, stride=1, padding=1, bias=False)\n",
    "    conv2.weight=nn.Parameter(torch.from_numpy(b).float().unsqueeze(0).unsqueeze(0))\n",
    "    G_y=conv2(Variable(x)).data.view(1,x.shape[2],x.shape[3])\n",
    "\n",
    "    G=torch.sqrt(torch.pow(G_x,2)+ torch.pow(G_y,2))\n",
    "    return G\n",
    "\n",
    "grad = gradient_img(image)\n",
    "\n",
    "#plotting\n",
    "unloader = transforms.ToPILImage()  # reconvert into PIL image\n",
    "\n",
    "plt.ion()\n",
    "\n",
    "def imshow(tensor, title=None):\n",
    "    image = tensor.cpu().clone()  # we clone the tensor to not do changes on it\n",
    "    image = image.squeeze(0)      # remove the fake batch dimension\n",
    "    image = unloader(image)\n",
    "    plt.imshow(image)\n",
    "    if title is not None:\n",
    "        plt.title(title)\n",
    "    plt.pause(0.001) # pause a bit so that plots are updated\n",
    "\n",
    "\n",
    "plt.figure()\n",
    "imshow(image, title='Original Image')\n",
    "imshow(grad, title='Edges identified')"
   ]
  },
  {
   "cell_type": "code",
   "execution_count": 34,
   "metadata": {},
   "outputs": [
    {
     "name": "stdout",
     "output_type": "stream",
     "text": [
      "pytorch edge L2 Loss:  tensor(15.6636)\n"
     ]
    }
   ],
   "source": [
    "generated = image_loader(INPUT)\n",
    "generated_grad = gradient_img(generated)\n",
    "target = image_loader(TARGET)\n",
    "target_grad = gradient_img(target)\n",
    "mse_loss = nn.MSELoss()\n",
    "edge_l2_loss = mse_loss(A_tensor, B_tensor)\n",
    "print(\"pytorch edge L2 Loss: \", str(edge_l2_loss))"
   ]
  },
  {
   "cell_type": "code",
   "execution_count": null,
   "metadata": {},
   "outputs": [],
   "source": []
  }
 ],
 "metadata": {
  "kernelspec": {
   "display_name": "ml",
   "language": "python",
   "name": "ml"
  },
  "language_info": {
   "codemirror_mode": {
    "name": "ipython",
    "version": 3
   },
   "file_extension": ".py",
   "mimetype": "text/x-python",
   "name": "python",
   "nbconvert_exporter": "python",
   "pygments_lexer": "ipython3",
   "version": "3.8.2"
  }
 },
 "nbformat": 4,
 "nbformat_minor": 4
}
